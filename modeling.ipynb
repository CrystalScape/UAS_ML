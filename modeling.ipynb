{
 "cells": [
  {
   "cell_type": "code",
   "execution_count": null,
   "metadata": {},
   "outputs": [
    {
     "ename": "",
     "evalue": "",
     "output_type": "error",
     "traceback": [
      "\u001b[1;31mRunning cells with 'Python 3.10.7' requires the ipykernel package.\n",
      "\u001b[1;31mRun the following command to install 'ipykernel' into the Python environment. \n",
      "\u001b[1;31mCommand: '\"c:/Users/Hype GLK/AppData/Local/Programs/Python/Python310/python.exe\" -m pip install ipykernel -U --user --force-reinstall'"
     ]
    }
   ],
   "source": [
    "import torch \n",
    "# Model \n",
    "from sklearn.svm import SVC\n",
    "from sklearn.cluster import KMeans\n",
    "from torch import nn \n",
    "# Preprocessing Data \n",
    "import pandas as pd\n",
    "import numpy as np \n",
    "from sklearn.model_selection import train_test_split\n",
    "from sklearn.preprocessing import MinMaxScaler , LabelEncoder\n",
    "from sklearn import metrics\n",
    "import random\n",
    "# Visualizer \n",
    "import matplotlib.pyplot as plt\n",
    "from tqdm import tqdm\n",
    "# save\n",
    "import pickle as pkl"
   ]
  },
  {
   "cell_type": "markdown",
   "metadata": {},
   "source": [
    "# SVM"
   ]
  },
  {
   "cell_type": "code",
   "execution_count": null,
   "metadata": {},
   "outputs": [],
   "source": [
    "dt1 = pd.read_excel(r'Dataset_Supervised\\\\fruit.xlsx')\n",
    "dt1"
   ]
  },
  {
   "cell_type": "code",
   "execution_count": null,
   "metadata": {},
   "outputs": [],
   "source": [
    "dt1['name'].unique()"
   ]
  },
  {
   "cell_type": "code",
   "execution_count": null,
   "metadata": {},
   "outputs": [],
   "source": [
    "x = dt1.drop(columns=['name']).values\n",
    "MM = MinMaxScaler().fit(x)\n",
    "x_norms = MM.transform(x)\n",
    "x_norms"
   ]
  },
  {
   "cell_type": "code",
   "execution_count": null,
   "metadata": {},
   "outputs": [],
   "source": [
    "y = dt1['name'].values\n",
    "le = LabelEncoder().fit(y)\n",
    "y_trns = le.transform(y)\n",
    "y_trns"
   ]
  },
  {
   "cell_type": "code",
   "execution_count": null,
   "metadata": {},
   "outputs": [],
   "source": [
    "x_train , x_test , y_train , y_test = train_test_split(x_norms , y_trns , test_size=0.2)\n",
    "x_train.shape , y_train.shape , x_test.shape , y_test.shape"
   ]
  },
  {
   "cell_type": "code",
   "execution_count": null,
   "metadata": {},
   "outputs": [],
   "source": [
    "def fitnes(y_true ,x , p): \n",
    "    kernels = ['linear', 'poly', 'rbf', 'sigmoid']\n",
    "    models = SVC(kernel=kernels[int(p[0])] , gamma=p[1] , C=p[2]).fit(x, y_true)\n",
    "    y_pred= models.predict(x)\n",
    "    loss = metrics.mean_squared_error(y_true , y_pred)\n",
    "    acc = metrics.accuracy_score(y_true , y_pred)\n",
    "    return loss , acc\n",
    "ite = 10\n",
    "def spwan_pop(): \n",
    "    return np.array([np.random.randint(0,3) , np.abs(np.random.randn()) , np.abs(np.random.random())])\n",
    "params = []\n",
    "loss = []\n",
    "accs = []\n",
    "gammas = []\n",
    "cs = []\n",
    "for i in tqdm(range(ite) , 'Fine Tuning...') : \n",
    "    pop = spwan_pop()\n",
    "    fitnesh , acc = fitnes(y_train , x_train, pop)\n",
    "    params.append(pop)\n",
    "    loss.append(fitnesh)\n",
    "    accs.append(acc)\n",
    "    gammas.append(pop[1])\n",
    "    cs.append(pop[2])\n",
    "best = params[np.argmin(loss)]\n",
    "kernels = ['linear', 'poly', 'rbf', 'sigmoid']\n",
    "modelsh = SVC(kernel=kernels[int(best[0])] , gamma=best[1] , C=best[2]).fit(x_train, y_train)\n",
    "fileSVM = open(r'svm.pkl' , 'wb')\n",
    "pkl.dump(modelsh , fileSVM)        \n",
    "print(f'Model Berhasil di save dengan parameter : Kernel : {kernels[int(best[0])]} | gamma : {best[1]} | C : {best[2]} | loss : {np.min(loss)} | acc : {np.max(accs)}')\n",
    "plt.figure(figsize=(20 , 5))\n",
    "plt.scatter(x=np.argmin(loss) , y=np.max(accs))\n",
    "plt.text(x=np.argmin(loss) , y=np.max(accs), s = f'loss : {np.min(loss)} | acc : {np.max(accs)}')\n",
    "plt.plot(loss , label = 'Loss')\n",
    "plt.plot(accs , label = 'Acc')\n",
    "plt.plot(gammas , label = 'gamma')\n",
    "plt.plot(cs , label = 'C')\n",
    "plt.grid()\n",
    "plt.legend()\n",
    "plt.show()"
   ]
  }
 ],
 "metadata": {
  "kernelspec": {
   "display_name": "Python 3",
   "language": "python",
   "name": "python3"
  },
  "language_info": {
   "codemirror_mode": {
    "name": "ipython",
    "version": 3
   },
   "file_extension": ".py",
   "mimetype": "text/x-python",
   "name": "python",
   "nbconvert_exporter": "python",
   "pygments_lexer": "ipython3",
   "version": "3.10.8"
  }
 },
 "nbformat": 4,
 "nbformat_minor": 2
}
